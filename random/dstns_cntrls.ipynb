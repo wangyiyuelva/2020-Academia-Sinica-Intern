{
 "cells": [
  {
   "cell_type": "code",
   "execution_count": 1,
   "metadata": {},
   "outputs": [],
   "source": [
    "import numpy as np\n",
    "import pandas as pd\n",
    "from sklearn.metrics import pairwise_distances"
   ]
  },
  {
   "cell_type": "code",
   "execution_count": 2,
   "metadata": {},
   "outputs": [],
   "source": [
    "samples = [0, 1, 2, 3, 4, 5, 6, 7, 8, 9, 50, 51, 52, 53, 54, 55, 57, 58, 61]"
   ]
  },
  {
   "cell_type": "code",
   "execution_count": 4,
   "metadata": {},
   "outputs": [],
   "source": [
    "for sample_idx in samples:\n",
    "    features = np.load(f'./valid_and_test_moth_classification_hmc_D2048_fg_shuffled_{sample_idx:02d}.npy', allow_pickle=True)\n",
    "    y_valid= np.load(f'./datasplit_cache/y_valid_fg_shuffled_{sample_idx:02d}.npy', allow_pickle=True)\n",
    "    y_test = np.load(f'./datasplit_cache/y_test_fg_shuffled_{sample_idx:02d}.npy', allow_pickle=True)\n",
    "\n",
    "    data = np.concatenate([np.concatenate([y_valid, y_test])[:, 0:1], features], axis=1)\n",
    "    max_fml_idx = np.unique(data[:, 0]).max()\n",
    "\n",
    "    result = []\n",
    "    for i in range(0, max_fml_idx.astype(int) + 1):\n",
    "        fml_features = [e[1:] for e in data if e[0] == i]\n",
    "        if fml_features:\n",
    "            amount = len(fml_features)\n",
    "            group_center = sum(fml_features) / amount            \n",
    "            dist_mat = pairwise_distances(np.vstack([group_center, fml_features]))\n",
    "            avg_dist_to_center = sum(dist_mat[0, 1:]) / amount\n",
    "            center_loss = sum([e ** 2 for e in dist_mat[0, 1:]]) / 2\n",
    "            result.append([i, amount, avg_dist_to_center, center_loss])\n",
    "        else:\n",
    "            result.append([i, np.nan, np.nan])\n",
    "\n",
    "    df = pd.DataFrame(result, columns=['Family', 'Amount', 'Average distance', 'Center loss'])\n",
    "    df.to_csv(f'./result/mean_distance_{sample_idx:02d}.csv', sep='\\t', index=False)"
   ]
  },
  {
   "cell_type": "code",
   "execution_count": null,
   "metadata": {},
   "outputs": [],
   "source": []
  }
 ],
 "metadata": {
  "kernelspec": {
   "display_name": "Python 3",
   "language": "python",
   "name": "python3"
  },
  "language_info": {
   "codemirror_mode": {
    "name": "ipython",
    "version": 3
   },
   "file_extension": ".py",
   "mimetype": "text/x-python",
   "name": "python",
   "nbconvert_exporter": "python",
   "pygments_lexer": "ipython3",
   "version": "3.6.10"
  }
 },
 "nbformat": 4,
 "nbformat_minor": 4
}
