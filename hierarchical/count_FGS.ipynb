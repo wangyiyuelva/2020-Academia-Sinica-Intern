{
 "cells": [
  {
   "cell_type": "code",
   "execution_count": 1,
   "metadata": {},
   "outputs": [
    {
     "name": "stdout",
     "output_type": "stream",
     "text": [
      "Family: col 3, Genus: col 0, Species: col 2\n",
      "Family number: 54\n",
      "Genus number: 1281\n",
      "Species number: 2460\n"
     ]
    }
   ],
   "source": [
    "import csv\n",
    "\n",
    "family_idx = 0\n",
    "genus_idx = 0\n",
    "species_idx = 0\n",
    "family_classes = set()\n",
    "genus_classes = set()\n",
    "species_classes = set()\n",
    "\n",
    "with open('sp_mod.csv', newline='') as csvsrc:\n",
    "    csvdata = csv.reader(csvsrc, delimiter='\\t')\n",
    "    csvheader = next(csvdata)\n",
    "    for idx, cell in enumerate(csvheader):\n",
    "        if cell == 'Family':\n",
    "            family_idx = idx\n",
    "        elif cell == 'Genus':\n",
    "            genus_idx = idx\n",
    "        elif cell == 'Species':\n",
    "            species_idx = idx\n",
    "\n",
    "    print(f'Family: col {family_idx}, Genus: col {genus_idx}, Species: col {species_idx}')\n",
    "\n",
    "    for row in csvdata:\n",
    "        for idx, cell in enumerate(row):\n",
    "            if idx == family_idx and cell not in family_classes:\n",
    "                family_classes.add(cell)\n",
    "            elif idx == genus_idx and cell not in genus_classes:\n",
    "                genus_classes.add(cell)\n",
    "            elif idx == species_idx and cell not in species_classes:\n",
    "                species_classes.add(cell)\n",
    "    \n",
    "    print(f'Family number: {len(family_classes)}')\n",
    "    print(f'Genus number: {len(genus_classes)}')\n",
    "    print(f'Species number: {len(species_classes)}')"
   ]
  },
  {
   "cell_type": "code",
   "execution_count": null,
   "metadata": {},
   "outputs": [],
   "source": []
  }
 ],
 "metadata": {
  "kernelspec": {
   "display_name": "Python 3",
   "language": "python",
   "name": "python3"
  },
  "language_info": {
   "codemirror_mode": {
    "name": "ipython",
    "version": 3
   },
   "file_extension": ".py",
   "mimetype": "text/x-python",
   "name": "python",
   "nbconvert_exporter": "python",
   "pygments_lexer": "ipython3",
   "version": "3.6.10"
  }
 },
 "nbformat": 4,
 "nbformat_minor": 4
}
